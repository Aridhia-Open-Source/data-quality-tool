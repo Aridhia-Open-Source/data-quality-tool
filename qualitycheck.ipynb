{
 "cells": [
  {
   "cell_type": "markdown",
   "metadata": {},
   "source": [
    "**Data Quality Check Run Book.**"
   ]
  },
  {
   "cell_type": "markdown",
   "metadata": {},
   "source": [
    "*Pre-requisite*\n",
    "1. Download the data-quality-tool project from github repo.\n",
    "2. Install the package in editable mode using '-e' and mention the downloaded path of data-quality-tool project "
   ]
  },
  {
   "cell_type": "code",
   "execution_count": 2,
   "metadata": {},
   "outputs": [
    {
     "name": "stdout",
     "output_type": "stream",
     "text": [
      "Obtaining file:///root/Aridhia-dataqualitytool/data-quality-tool\n",
      "  Preparing metadata (setup.py) ... \u001b[?25ldone\n",
      "\u001b[?25hRequirement already satisfied: pandas==1.3.3 in /usr/local/lib/python3.8/dist-packages (from dataqualitycheck==0.1) (1.3.3)\n",
      "Requirement already satisfied: polars in /usr/local/lib/python3.8/dist-packages (from dataqualitycheck==0.1) (1.8.2)\n",
      "Requirement already satisfied: reportlab==3.6.1 in /usr/local/lib/python3.8/dist-packages (from dataqualitycheck==0.1) (3.6.1)\n",
      "Requirement already satisfied: numpy>=1.17.3 in /usr/local/lib/python3.8/dist-packages (from pandas==1.3.3->dataqualitycheck==0.1) (1.24.4)\n",
      "Requirement already satisfied: python-dateutil>=2.7.3 in /usr/local/lib/python3.8/dist-packages (from pandas==1.3.3->dataqualitycheck==0.1) (2.9.0.post0)\n",
      "Requirement already satisfied: pytz>=2017.3 in /usr/local/lib/python3.8/dist-packages (from pandas==1.3.3->dataqualitycheck==0.1) (2024.1)\n",
      "Requirement already satisfied: pillow>=4.0.0 in /usr/local/lib/python3.8/dist-packages (from reportlab==3.6.1->dataqualitycheck==0.1) (10.4.0)\n",
      "Requirement already satisfied: six>=1.5 in /usr/local/lib/python3.8/dist-packages (from python-dateutil>=2.7.3->pandas==1.3.3->dataqualitycheck==0.1) (1.16.0)\n",
      "Installing collected packages: dataqualitycheck\n",
      "  Attempting uninstall: dataqualitycheck\n",
      "    Found existing installation: dataqualitycheck 0.1\n",
      "    Can't uninstall 'dataqualitycheck'. No files were found to uninstall.\n",
      "\u001b[33m  DEPRECATION: Legacy editable install of dataqualitycheck==0.1 from file:///root/Aridhia-dataqualitytool/data-quality-tool (setup.py develop) is deprecated. pip 25.0 will enforce this behaviour change. A possible replacement is to add a pyproject.toml or enable --use-pep517, and use setuptools >= 64. If the resulting installation is not behaving as expected, try using --config-settings editable_mode=compat. Please consult the setuptools documentation for more information. Discussion can be found at https://github.com/pypa/pip/issues/11457\u001b[0m\u001b[33m\n",
      "\u001b[0m  Running setup.py develop for dataqualitycheck\n",
      "Successfully installed dataqualitycheck\n",
      "\u001b[33mWARNING: Running pip as the 'root' user can result in broken permissions and conflicting behaviour with the system package manager, possibly rendering your system unusable.It is recommended to use a virtual environment instead: https://pip.pypa.io/warnings/venv. Use the --root-user-action option if you know what you are doing and want to suppress this warning.\u001b[0m\u001b[33m\n",
      "\u001b[0mNote: you may need to restart the kernel to use updated packages.\n"
     ]
    }
   ],
   "source": [
    "pip install -e ."
   ]
  },
  {
   "cell_type": "code",
   "execution_count": 3,
   "metadata": {},
   "outputs": [],
   "source": [
    "# import the package\n",
    "from dataqualitycheck import dataqualitycheck as dq\n",
    "from datetime import datetime"
   ]
  },
  {
   "cell_type": "code",
   "execution_count": 4,
   "metadata": {},
   "outputs": [],
   "source": [
    "# Define the path to your large CSV file\n",
    "csv_file_path = \"./files/testfile_with_errors.csv\"\n",
    "# Define the schema of the CSV file,\n",
    "# use datetime for dates and mention the date format \n",
    "# bool for boolean,\n",
    "# float for decimal numbers, \n",
    "# int for integers and str for strings.\n",
    "expected_schema = {\n",
    "    \"CustomerID\": {\"dtype\": int, \"nullable\": False},\n",
    "    \"Name\": {\"dtype\": str, \"nullable\": False},\n",
    "    \"Email\": {\"dtype\": str, \"regex\": r\"[^@]+@[^@]+\\.[^@]+\", \"nullable\": True},\n",
    "    \"PhoneNumber\": {\"dtype\": str, \"regex\": r\"^\\+44 \\d{4} \\d{6}$\", \"nullable\": True},\n",
    "    \"BirthDate\": {\"dtype\": datetime, \"format\": '%Y-%m-%d', \"nullable\": True},\n",
    "    \"Country\": {\"dtype\": str, \"nullable\": True},\n",
    "    \"PurchaseAmount\": {\"dtype\": float, \"nullable\": True},\n",
    "    \"LoyaltyPoints\": {\"dtype\": int, \"nullable\": True},\n",
    "    \"PremiumMember\": {\"dtype\": bool, \"nullable\": True}\n",
    "}"
   ]
  },
  {
   "cell_type": "code",
   "execution_count": 5,
   "metadata": {},
   "outputs": [
    {
     "name": "stdout",
     "output_type": "stream",
     "text": [
      "Datatype Error Summary:\n",
      "----------------------------------------\n",
      "Column: BirthDate, Error Type: Datatype Mismatch, Count: 2\n",
      "Column: PhoneNumber, Error Type: Regex Mismatch, Count: 2\n",
      "Column: LoyaltyPoints, Error Type: Datatype Mismatch, Count: 2\n",
      "Column: Name, Error Type: Null Value, Count: 1\n",
      "Column: Email, Error Type: Regex Mismatch, Count: 2\n",
      "Column: PremiumMember, Error Type: Datatype Mismatch, Count: 2\n",
      "Column: CustomerID, Error Type: Datatype Mismatch, Count: 1\n",
      "Column: PurchaseAmount, Error Type: Datatype Mismatch, Count: 1\n",
      "Error Summary:\n",
      "----------------------------------------\n",
      "Total datatype_errors: 13\n",
      "Total duplicate_key_errors: 8\n",
      "Total special_char_errors: 2\n"
     ]
    }
   ],
   "source": [
    "# Validate the CSV file using the read_file function from dataqualitycheck\n",
    "# pass csv file path \n",
    "# pass expected schema \n",
    "# pass the column name which is primarykey,\n",
    "# pass optional field csv_report=True to generate a csv report\n",
    "# pass optional field pdf_report=True to generate a pdf report\n",
    "validate= dq.read_file(csv_file_path,expected_schema,'CustomerID',csv_report=True)"
   ]
  }
 ],
 "metadata": {
  "kernelspec": {
   "display_name": "Python 3",
   "language": "python",
   "name": "python3"
  },
  "language_info": {
   "codemirror_mode": {
    "name": "ipython",
    "version": 3
   },
   "file_extension": ".py",
   "mimetype": "text/x-python",
   "name": "python",
   "nbconvert_exporter": "python",
   "pygments_lexer": "ipython3",
   "version": "3.8.10"
  }
 },
 "nbformat": 4,
 "nbformat_minor": 2
}
