{
 "cells": [
  {
   "cell_type": "code",
   "execution_count": 1,
   "metadata": {},
   "outputs": [],
   "source": [
    "from src.dataqualitycheck import read_file"
   ]
  },
  {
   "cell_type": "code",
   "execution_count": 2,
   "metadata": {},
   "outputs": [],
   "source": [
    "# Define the path to your large CSV file\n",
    "csv_file_path = \"./files/testfile_with_errors.csv\"\n",
    "expected_schema = {\n",
    "    \"CustomerID\": {\"dtype\": int, \"nullable\": False},\n",
    "    \"Name\": {\"dtype\": str, \"nullable\": False},\n",
    "    \"Email\": {\"dtype\": str, \"regex\": r\"[^@]+@[^@]+\\.[^@]+\", \"nullable\": True},\n",
    "    \"PhoneNumber\": {\"dtype\": str, \"regex\": r\"^\\+44 \\d{4} \\d{6}$\", \"nullable\": True},\n",
    "    \"BirthDate\": {\"dtype\": str, \"format\": '%Y-%m-%d', \"nullable\": True},\n",
    "    \"Country\": {\"dtype\": str, \"nullable\": True},\n",
    "    \"PurchaseAmount\": {\"dtype\": float, \"nullable\": True},\n",
    "    \"LoyaltyPoints\": {\"dtype\": int, \"nullable\": True},\n",
    "    \"PremiumMember\": {\"dtype\": bool, \"nullable\": True}\n",
    "}"
   ]
  },
  {
   "cell_type": "code",
   "execution_count": 3,
   "metadata": {},
   "outputs": [
    {
     "ename": "DataQualityCheckError",
     "evalue": "An error occurred during data quality check: Failed to validate data types: casting from Utf8View to Boolean not supported",
     "output_type": "error",
     "traceback": [
      "\u001b[0;31m---------------------------------------------------------------------------\u001b[0m",
      "\u001b[0;31mInvalidOperationError\u001b[0m                     Traceback (most recent call last)",
      "File \u001b[0;32m~/Aridhia-dataqualitytool/data-quality-tool/src/dataqualitycheck.py:80\u001b[0m, in \u001b[0;36mvalidate_data_types\u001b[0;34m(df, expected_schema)\u001b[0m\n\u001b[1;32m     78\u001b[0m \u001b[38;5;28;01melse\u001b[39;00m:\n\u001b[1;32m     79\u001b[0m     error_indices \u001b[38;5;241m=\u001b[39m (\n\u001b[0;32m---> 80\u001b[0m         \u001b[43mdf\u001b[49m\u001b[38;5;241;43m.\u001b[39;49m\u001b[43mfilter\u001b[49m\u001b[43m(\u001b[49m\u001b[43mpl\u001b[49m\u001b[38;5;241;43m.\u001b[39;49m\u001b[43mcol\u001b[49m\u001b[43m(\u001b[49m\u001b[43mcolumn\u001b[49m\u001b[43m)\u001b[49m\u001b[38;5;241;43m.\u001b[39;49m\u001b[43mis_not_null\u001b[49m\u001b[43m(\u001b[49m\u001b[43m)\u001b[49m\u001b[43m)\u001b[49m\n\u001b[1;32m     81\u001b[0m \u001b[43m        \u001b[49m\u001b[38;5;241;43m.\u001b[39;49m\u001b[43mfilter\u001b[49m\u001b[43m(\u001b[49m\u001b[43mpl\u001b[49m\u001b[38;5;241;43m.\u001b[39;49m\u001b[43mcol\u001b[49m\u001b[43m(\u001b[49m\u001b[43mcolumn\u001b[49m\u001b[43m)\u001b[49m\u001b[38;5;241;43m.\u001b[39;49m\u001b[43mcast\u001b[49m\u001b[43m(\u001b[49m\u001b[43mexpected_dtype\u001b[49m\u001b[43m,\u001b[49m\u001b[43m \u001b[49m\u001b[43mstrict\u001b[49m\u001b[38;5;241;43m=\u001b[39;49m\u001b[38;5;28;43;01mFalse\u001b[39;49;00m\u001b[43m)\u001b[49m\u001b[38;5;241;43m.\u001b[39;49m\u001b[43mis_null\u001b[49m\u001b[43m(\u001b[49m\u001b[43m)\u001b[49m\u001b[43m)\u001b[49m\n\u001b[1;32m     82\u001b[0m         \u001b[38;5;241m.\u001b[39mselect(\u001b[38;5;124m\"\u001b[39m\u001b[38;5;124mindex\u001b[39m\u001b[38;5;124m\"\u001b[39m)\n\u001b[1;32m     83\u001b[0m         \u001b[38;5;241m.\u001b[39mto_series()\n\u001b[1;32m     84\u001b[0m         \u001b[38;5;241m.\u001b[39mto_list()\n\u001b[1;32m     85\u001b[0m     )\n\u001b[1;32m     87\u001b[0m error_values \u001b[38;5;241m=\u001b[39m (\n\u001b[1;32m     88\u001b[0m     df\u001b[38;5;241m.\u001b[39mfilter(pl\u001b[38;5;241m.\u001b[39mcol(\u001b[38;5;124m\"\u001b[39m\u001b[38;5;124mindex\u001b[39m\u001b[38;5;124m\"\u001b[39m)\u001b[38;5;241m.\u001b[39mis_in(error_indices))\n\u001b[1;32m     89\u001b[0m     \u001b[38;5;241m.\u001b[39mselect(column)\n\u001b[1;32m     90\u001b[0m     \u001b[38;5;241m.\u001b[39mto_series()\n\u001b[1;32m     91\u001b[0m     \u001b[38;5;241m.\u001b[39mto_list()\n\u001b[1;32m     92\u001b[0m )\n",
      "File \u001b[0;32m/usr/local/lib/python3.8/dist-packages/polars/dataframe/frame.py:4726\u001b[0m, in \u001b[0;36mDataFrame.filter\u001b[0;34m(self, *predicates, **constraints)\u001b[0m\n\u001b[1;32m   4583\u001b[0m \u001b[38;5;250m\u001b[39m\u001b[38;5;124;03m\"\"\"\u001b[39;00m\n\u001b[1;32m   4584\u001b[0m \u001b[38;5;124;03mFilter the rows in the DataFrame based on one or more predicate expressions.\u001b[39;00m\n\u001b[1;32m   4585\u001b[0m \n\u001b[0;32m   (...)\u001b[0m\n\u001b[1;32m   4724\u001b[0m \n\u001b[1;32m   4725\u001b[0m \u001b[38;5;124;03m\"\"\"\u001b[39;00m\n\u001b[0;32m-> 4726\u001b[0m \u001b[38;5;28;01mreturn\u001b[39;00m \u001b[38;5;28;43mself\u001b[39;49m\u001b[38;5;241;43m.\u001b[39;49m\u001b[43mlazy\u001b[49m\u001b[43m(\u001b[49m\u001b[43m)\u001b[49m\u001b[38;5;241;43m.\u001b[39;49m\u001b[43mfilter\u001b[49m\u001b[43m(\u001b[49m\u001b[38;5;241;43m*\u001b[39;49m\u001b[43mpredicates\u001b[49m\u001b[43m,\u001b[49m\u001b[43m \u001b[49m\u001b[38;5;241;43m*\u001b[39;49m\u001b[38;5;241;43m*\u001b[39;49m\u001b[43mconstraints\u001b[49m\u001b[43m)\u001b[49m\u001b[38;5;241;43m.\u001b[39;49m\u001b[43mcollect\u001b[49m\u001b[43m(\u001b[49m\u001b[43m_eager\u001b[49m\u001b[38;5;241;43m=\u001b[39;49m\u001b[38;5;28;43;01mTrue\u001b[39;49;00m\u001b[43m)\u001b[49m\n",
      "File \u001b[0;32m/usr/local/lib/python3.8/dist-packages/polars/lazyframe/frame.py:2053\u001b[0m, in \u001b[0;36mLazyFrame.collect\u001b[0;34m(self, type_coercion, predicate_pushdown, projection_pushdown, simplify_expression, slice_pushdown, comm_subplan_elim, comm_subexpr_elim, cluster_with_columns, collapse_joins, no_optimization, streaming, engine, background, _eager, **_kwargs)\u001b[0m\n\u001b[1;32m   2052\u001b[0m callback \u001b[38;5;241m=\u001b[39m _kwargs\u001b[38;5;241m.\u001b[39mget(\u001b[38;5;124m\"\u001b[39m\u001b[38;5;124mpost_opt_callback\u001b[39m\u001b[38;5;124m\"\u001b[39m, callback)\n\u001b[0;32m-> 2053\u001b[0m \u001b[38;5;28;01mreturn\u001b[39;00m wrap_df(\u001b[43mldf\u001b[49m\u001b[38;5;241;43m.\u001b[39;49m\u001b[43mcollect\u001b[49m\u001b[43m(\u001b[49m\u001b[43mcallback\u001b[49m\u001b[43m)\u001b[49m)\n",
      "\u001b[0;31mInvalidOperationError\u001b[0m: casting from Utf8View to Boolean not supported",
      "\nDuring handling of the above exception, another exception occurred:\n",
      "\u001b[0;31mDataQualityCheckError\u001b[0m                     Traceback (most recent call last)",
      "File \u001b[0;32m~/Aridhia-dataqualitytool/data-quality-tool/src/dataqualitycheck.py:248\u001b[0m, in \u001b[0;36mread_file\u001b[0;34m(csv_file_path, expected_schema, primary_key, pdf_report, csv_report)\u001b[0m\n\u001b[1;32m    247\u001b[0m \u001b[38;5;28;01mfor\u001b[39;00m df_batch \u001b[38;5;129;01min\u001b[39;00m df\u001b[38;5;241m.\u001b[39mcollect()\u001b[38;5;241m.\u001b[39miter_slices(batch_size):\n\u001b[0;32m--> 248\u001b[0m     error_details\u001b[38;5;241m.\u001b[39mextend(\u001b[43mvalidate_data_types\u001b[49m\u001b[43m(\u001b[49m\u001b[43mdf_batch\u001b[49m\u001b[43m,\u001b[49m\u001b[43m \u001b[49m\u001b[43mexpected_schema\u001b[49m\u001b[43m)\u001b[49m)\n\u001b[1;32m    249\u001b[0m     duplicate_keys \u001b[38;5;241m=\u001b[39m duplicate_keys\u001b[38;5;241m.\u001b[39mvstack(check_for_duplicate_keys_polars(primary_key, df_batch))\n",
      "File \u001b[0;32m~/Aridhia-dataqualitytool/data-quality-tool/src/dataqualitycheck.py:162\u001b[0m, in \u001b[0;36mvalidate_data_types\u001b[0;34m(df, expected_schema)\u001b[0m\n\u001b[1;32m    161\u001b[0m \u001b[38;5;28;01mexcept\u001b[39;00m \u001b[38;5;167;01mException\u001b[39;00m \u001b[38;5;28;01mas\u001b[39;00m e:\n\u001b[0;32m--> 162\u001b[0m     \u001b[38;5;28;01mraise\u001b[39;00m DataQualityCheckError(\u001b[38;5;124mf\u001b[39m\u001b[38;5;124m\"\u001b[39m\u001b[38;5;124mFailed to validate data types: \u001b[39m\u001b[38;5;132;01m{\u001b[39;00m\u001b[38;5;28mstr\u001b[39m(e)\u001b[38;5;132;01m}\u001b[39;00m\u001b[38;5;124m\"\u001b[39m)\n",
      "\u001b[0;31mDataQualityCheckError\u001b[0m: Failed to validate data types: casting from Utf8View to Boolean not supported",
      "\nDuring handling of the above exception, another exception occurred:\n",
      "\u001b[0;31mDataQualityCheckError\u001b[0m                     Traceback (most recent call last)",
      "Cell \u001b[0;32mIn[3], line 1\u001b[0m\n\u001b[0;32m----> 1\u001b[0m validate\u001b[38;5;241m=\u001b[39m \u001b[43mread_file\u001b[49m\u001b[43m(\u001b[49m\u001b[43mcsv_file_path\u001b[49m\u001b[43m,\u001b[49m\u001b[43mexpected_schema\u001b[49m\u001b[43m,\u001b[49m\u001b[38;5;124;43m'\u001b[39;49m\u001b[38;5;124;43mCustomerID\u001b[39;49m\u001b[38;5;124;43m'\u001b[39;49m\u001b[43m,\u001b[49m\u001b[43mpdf_report\u001b[49m\u001b[38;5;241;43m=\u001b[39;49m\u001b[38;5;28;43;01mTrue\u001b[39;49;00m\u001b[43m)\u001b[49m\n",
      "File \u001b[0;32m~/Aridhia-dataqualitytool/data-quality-tool/src/dataqualitycheck.py:279\u001b[0m, in \u001b[0;36mread_file\u001b[0;34m(csv_file_path, expected_schema, primary_key, pdf_report, csv_report)\u001b[0m\n\u001b[1;32m    277\u001b[0m     \u001b[38;5;28;01mreturn\u001b[39;00m error_details, duplicate_keys, special_char_rows\n\u001b[1;32m    278\u001b[0m \u001b[38;5;28;01mexcept\u001b[39;00m \u001b[38;5;167;01mException\u001b[39;00m \u001b[38;5;28;01mas\u001b[39;00m e:\n\u001b[0;32m--> 279\u001b[0m     \u001b[38;5;28;01mraise\u001b[39;00m DataQualityCheckError(\u001b[38;5;124mf\u001b[39m\u001b[38;5;124m\"\u001b[39m\u001b[38;5;124mAn error occurred during data quality check: \u001b[39m\u001b[38;5;132;01m{\u001b[39;00m\u001b[38;5;28mstr\u001b[39m(e)\u001b[38;5;132;01m}\u001b[39;00m\u001b[38;5;124m\"\u001b[39m)\n",
      "\u001b[0;31mDataQualityCheckError\u001b[0m: An error occurred during data quality check: Failed to validate data types: casting from Utf8View to Boolean not supported"
     ]
    }
   ],
   "source": [
    "validate= read_file(csv_file_path,expected_schema,'CustomerID',pdf_report=True)"
   ]
  }
 ],
 "metadata": {
  "kernelspec": {
   "display_name": "Python 3",
   "language": "python",
   "name": "python3"
  },
  "language_info": {
   "codemirror_mode": {
    "name": "ipython",
    "version": 3
   },
   "file_extension": ".py",
   "mimetype": "text/x-python",
   "name": "python",
   "nbconvert_exporter": "python",
   "pygments_lexer": "ipython3",
   "version": "3.8.10"
  }
 },
 "nbformat": 4,
 "nbformat_minor": 2
}
